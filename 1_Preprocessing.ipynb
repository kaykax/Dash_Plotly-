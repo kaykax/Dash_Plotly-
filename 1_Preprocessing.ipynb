{
 "cells": [
  {
   "cell_type": "markdown",
   "id": "bd00889b",
   "metadata": {},
   "source": [
    "# Preprocessing\n",
    "### Mary Kate Montgomery\n",
    "### Script to pull 4 datasets together, perform some basic preprocessing, and save to file"
   ]
  },
  {
   "cell_type": "code",
   "execution_count": 1,
   "id": "72e636b1",
   "metadata": {},
   "outputs": [],
   "source": [
    "import pandas as pd\n",
    "import numpy as np"
   ]
  },
  {
   "cell_type": "code",
   "execution_count": 2,
   "id": "c16933c5",
   "metadata": {},
   "outputs": [],
   "source": [
    "# Read data for all 4 datasets\n",
    "df_cle = pd.read_csv(\"processed.cleveland.data\",header=None,names=[\"age\",\"sex\",\"cp\",\"trestbps\",\"chol\",\"fbs\",\"restecg\",\"thalach\",\"exang\",\"oldpeak\",\"slope\",\"ca\",\"thal\",\"num\"])\n",
    "df_va = pd.read_csv(\"processed.va.data\",header=None,names=[\"age\",\"sex\",\"cp\",\"trestbps\",\"chol\",\"fbs\",\"restecg\",\"thalach\",\"exang\",\"oldpeak\",\"slope\",\"ca\",\"thal\",\"num\"])\n",
    "df_sui = pd.read_csv(\"processed.switzerland.data\",header=None,names=[\"age\",\"sex\",\"cp\",\"trestbps\",\"chol\",\"fbs\",\"restecg\",\"thalach\",\"exang\",\"oldpeak\",\"slope\",\"ca\",\"thal\",\"num\"])\n",
    "df_hu = pd.read_csv(\"processed.hungarian.data\",header=None,names=[\"age\",\"sex\",\"cp\",\"trestbps\",\"chol\",\"fbs\",\"restecg\",\"thalach\",\"exang\",\"oldpeak\",\"slope\",\"ca\",\"thal\",\"num\"])"
   ]
  },
  {
   "cell_type": "code",
   "execution_count": 3,
   "id": "625c52e6",
   "metadata": {},
   "outputs": [],
   "source": [
    "# Add source column\n",
    "df_cle['loc']='Cleveland Clinic Foundation'\n",
    "df_va['loc']='V.A. Medical Center, Long Beach, CA'\n",
    "df_sui['loc']= 'University Hospital, Zurich, Switzerland'\n",
    "df_hu['loc']='Hungarian Institute of Cardiology, Budapest'"
   ]
  },
  {
   "cell_type": "code",
   "execution_count": 4,
   "id": "3dc201ba",
   "metadata": {},
   "outputs": [],
   "source": [
    "# Merge data into single dataframe\n",
    "df = pd.concat([df_cle,df_va,df_sui,df_hu],ignore_index=True)"
   ]
  },
  {
   "cell_type": "code",
   "execution_count": 5,
   "id": "b36f707b",
   "metadata": {},
   "outputs": [],
   "source": [
    "# Replace question marks with NaNs\n",
    "df.replace('?',np.nan,inplace=True)"
   ]
  },
  {
   "cell_type": "code",
   "execution_count": 6,
   "id": "9e61a90a",
   "metadata": {},
   "outputs": [],
   "source": [
    "# Set datatypes (not all sources read as same type)\n",
    "df = df.astype({\"age\":np.float64,\"sex\":np.float64,\"cp\":np.float64,\"trestbps\":np.float64,\"chol\":np.float64,\n",
    "           \"fbs\":np.float64,\"restecg\":np.float64,\"thalach\":np.float64,\"exang\":np.float64,\n",
    "           \"oldpeak\":np.float64,\"slope\":np.float64,\"ca\":np.float64,\"thal\":np.float64,\"num\":np.int32})"
   ]
  },
  {
   "cell_type": "code",
   "execution_count": 7,
   "id": "a671618c",
   "metadata": {},
   "outputs": [],
   "source": [
    "# Create target column and drop num\n",
    "df['target']=df['num'].apply(lambda x: 0 if x==0 else 1)\n",
    "df.drop(columns=['num'],axis=1,inplace=True)"
   ]
  },
  {
   "cell_type": "code",
   "execution_count": 8,
   "id": "5a01502c",
   "metadata": {},
   "outputs": [],
   "source": [
    "# Change values to be more interpretable \n",
    "df.loc[df['sex']==1,'sex'] = 'M'\n",
    "df.loc[df['sex']==0,'sex'] = 'F'\n",
    "df.loc[df['target']==1,'target'] = 'Heart Disease'\n",
    "df.loc[df['target']==0,'target'] = 'No Heart Disease'\n",
    "df.rename(columns= {'cp':'chest pain','exang':'exercise induced angina','thal':'thallium stress test','ca':'coronary artery','thalach':'max heart rate','trestbps':'blood pressure','chol':'cholesterol','fbs':'blood sugar'},inplace=True)"
   ]
  },
  {
   "cell_type": "code",
   "execution_count": 9,
   "id": "19588209",
   "metadata": {},
   "outputs": [
    {
     "data": {
      "text/html": [
       "<div>\n",
       "<style scoped>\n",
       "    .dataframe tbody tr th:only-of-type {\n",
       "        vertical-align: middle;\n",
       "    }\n",
       "\n",
       "    .dataframe tbody tr th {\n",
       "        vertical-align: top;\n",
       "    }\n",
       "\n",
       "    .dataframe thead th {\n",
       "        text-align: right;\n",
       "    }\n",
       "</style>\n",
       "<table border=\"1\" class=\"dataframe\">\n",
       "  <thead>\n",
       "    <tr style=\"text-align: right;\">\n",
       "      <th></th>\n",
       "      <th>age</th>\n",
       "      <th>sex</th>\n",
       "      <th>chest pain</th>\n",
       "      <th>blood pressure</th>\n",
       "      <th>cholesterol</th>\n",
       "      <th>blood sugar</th>\n",
       "      <th>restecg</th>\n",
       "      <th>max heart rate</th>\n",
       "      <th>exercise induced angina</th>\n",
       "      <th>oldpeak</th>\n",
       "      <th>slope</th>\n",
       "      <th>coronary artery</th>\n",
       "      <th>thallium stress test</th>\n",
       "      <th>loc</th>\n",
       "      <th>target</th>\n",
       "    </tr>\n",
       "  </thead>\n",
       "  <tbody>\n",
       "    <tr>\n",
       "      <th>0</th>\n",
       "      <td>63.0</td>\n",
       "      <td>M</td>\n",
       "      <td>1.0</td>\n",
       "      <td>145.0</td>\n",
       "      <td>233.0</td>\n",
       "      <td>1.0</td>\n",
       "      <td>2.0</td>\n",
       "      <td>150.0</td>\n",
       "      <td>0.0</td>\n",
       "      <td>2.3</td>\n",
       "      <td>3.0</td>\n",
       "      <td>0.0</td>\n",
       "      <td>6.0</td>\n",
       "      <td>Cleveland Clinic Foundation</td>\n",
       "      <td>No Heart Disease</td>\n",
       "    </tr>\n",
       "    <tr>\n",
       "      <th>1</th>\n",
       "      <td>67.0</td>\n",
       "      <td>M</td>\n",
       "      <td>4.0</td>\n",
       "      <td>160.0</td>\n",
       "      <td>286.0</td>\n",
       "      <td>0.0</td>\n",
       "      <td>2.0</td>\n",
       "      <td>108.0</td>\n",
       "      <td>1.0</td>\n",
       "      <td>1.5</td>\n",
       "      <td>2.0</td>\n",
       "      <td>3.0</td>\n",
       "      <td>3.0</td>\n",
       "      <td>Cleveland Clinic Foundation</td>\n",
       "      <td>Heart Disease</td>\n",
       "    </tr>\n",
       "    <tr>\n",
       "      <th>2</th>\n",
       "      <td>67.0</td>\n",
       "      <td>M</td>\n",
       "      <td>4.0</td>\n",
       "      <td>120.0</td>\n",
       "      <td>229.0</td>\n",
       "      <td>0.0</td>\n",
       "      <td>2.0</td>\n",
       "      <td>129.0</td>\n",
       "      <td>1.0</td>\n",
       "      <td>2.6</td>\n",
       "      <td>2.0</td>\n",
       "      <td>2.0</td>\n",
       "      <td>7.0</td>\n",
       "      <td>Cleveland Clinic Foundation</td>\n",
       "      <td>Heart Disease</td>\n",
       "    </tr>\n",
       "    <tr>\n",
       "      <th>3</th>\n",
       "      <td>37.0</td>\n",
       "      <td>M</td>\n",
       "      <td>3.0</td>\n",
       "      <td>130.0</td>\n",
       "      <td>250.0</td>\n",
       "      <td>0.0</td>\n",
       "      <td>0.0</td>\n",
       "      <td>187.0</td>\n",
       "      <td>0.0</td>\n",
       "      <td>3.5</td>\n",
       "      <td>3.0</td>\n",
       "      <td>0.0</td>\n",
       "      <td>3.0</td>\n",
       "      <td>Cleveland Clinic Foundation</td>\n",
       "      <td>No Heart Disease</td>\n",
       "    </tr>\n",
       "    <tr>\n",
       "      <th>4</th>\n",
       "      <td>41.0</td>\n",
       "      <td>F</td>\n",
       "      <td>2.0</td>\n",
       "      <td>130.0</td>\n",
       "      <td>204.0</td>\n",
       "      <td>0.0</td>\n",
       "      <td>2.0</td>\n",
       "      <td>172.0</td>\n",
       "      <td>0.0</td>\n",
       "      <td>1.4</td>\n",
       "      <td>1.0</td>\n",
       "      <td>0.0</td>\n",
       "      <td>3.0</td>\n",
       "      <td>Cleveland Clinic Foundation</td>\n",
       "      <td>No Heart Disease</td>\n",
       "    </tr>\n",
       "  </tbody>\n",
       "</table>\n",
       "</div>"
      ],
      "text/plain": [
       "    age sex  chest pain  blood pressure  cholesterol  blood sugar  restecg  \\\n",
       "0  63.0   M         1.0           145.0        233.0          1.0      2.0   \n",
       "1  67.0   M         4.0           160.0        286.0          0.0      2.0   \n",
       "2  67.0   M         4.0           120.0        229.0          0.0      2.0   \n",
       "3  37.0   M         3.0           130.0        250.0          0.0      0.0   \n",
       "4  41.0   F         2.0           130.0        204.0          0.0      2.0   \n",
       "\n",
       "   max heart rate  exercise induced angina  oldpeak  slope  coronary artery  \\\n",
       "0           150.0                      0.0      2.3    3.0              0.0   \n",
       "1           108.0                      1.0      1.5    2.0              3.0   \n",
       "2           129.0                      1.0      2.6    2.0              2.0   \n",
       "3           187.0                      0.0      3.5    3.0              0.0   \n",
       "4           172.0                      0.0      1.4    1.0              0.0   \n",
       "\n",
       "   thallium stress test                          loc            target  \n",
       "0                   6.0  Cleveland Clinic Foundation  No Heart Disease  \n",
       "1                   3.0  Cleveland Clinic Foundation     Heart Disease  \n",
       "2                   7.0  Cleveland Clinic Foundation     Heart Disease  \n",
       "3                   3.0  Cleveland Clinic Foundation  No Heart Disease  \n",
       "4                   3.0  Cleveland Clinic Foundation  No Heart Disease  "
      ]
     },
     "execution_count": 9,
     "metadata": {},
     "output_type": "execute_result"
    }
   ],
   "source": [
    "df.head()"
   ]
  },
  {
   "cell_type": "code",
   "execution_count": 10,
   "id": "cff9ca8f",
   "metadata": {},
   "outputs": [],
   "source": [
    "# Write parsed dataset to single csv\n",
    "df.to_csv(\"alldata.csv\",index=False)"
   ]
  }
 ],
 "metadata": {
  "kernelspec": {
   "display_name": "Python 3 (ipykernel)",
   "language": "python",
   "name": "python3"
  },
  "language_info": {
   "codemirror_mode": {
    "name": "ipython",
    "version": 3
   },
   "file_extension": ".py",
   "mimetype": "text/x-python",
   "name": "python",
   "nbconvert_exporter": "python",
   "pygments_lexer": "ipython3",
   "version": "3.8.11"
  }
 },
 "nbformat": 4,
 "nbformat_minor": 5
}
